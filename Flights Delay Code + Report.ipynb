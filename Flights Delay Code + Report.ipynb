{
 "cells": [
  {
   "cell_type": "markdown",
   "id": "6a013bd2",
   "metadata": {},
   "source": [
    "# FLIGHTS DELAY PREDICTION USING RF"
   ]
  },
  {
   "cell_type": "markdown",
   "id": "ed61f49c",
   "metadata": {},
   "source": [
    "## Introduction\n",
    "\n",
    "This project is based on the flights data analysis where our main goal is to perform some exploratory data anlaysis on the dataset and then apply data mining algorithms to predict the delay of a flight. The dataset selected is taken from Kaggle which is a public repository for datasets. The data consists of nine features in total which contains below information:\n",
    "1. ID: This act as an identifier to identify each observation in the dataset uniquely.\n",
    "2. Airline: This tells us the Airline for a specific observation in the dataset.\n",
    "3. AirportFrom: This tells us about the origin of flight.\n",
    "4. AirportTo: This tells us about the destination of flight.\n",
    "5. Flight: This tells us the flight number assigned to each flight.\n",
    "6. DayOfWeek: This tells us tha day of week on whcih flight took place for each flight in the dataset.\n",
    "7. Time: The time of flight is present in this column of dataset.\n",
    "8. Length: The length of flight in minutes.\n",
    "9. The delay which is our target variable. This is a binary classification problem. We have two possible outputs, either the flight is delayed or its not.\n",
    "\n",
    "The dataset consists of a total of 539383 observations and it contains a mix of categorical and numerical /continuous attributes as shown and explained above. In order to be sure about what type of analysis and questions will be answered in this project, below is a highlight of what is discussed in upcoming sections:\n",
    "1. Do flights which are delayed and not delayed have same or different flight length?\n",
    "2. Which airline records highest number of delayed flights?\n",
    "3. Which destination airport records highest number of flights delayed?\n",
    "4. Build a prediction model to predict the delay."
   ]
  },
  {
   "cell_type": "markdown",
   "id": "2f9cf0f7",
   "metadata": {},
   "source": [
    "## Methodology\n",
    "\n",
    "This project follows the below mentioned steps from start till end with an explanation of each step:\n",
    "1. Data Preprocessing.\n",
    "2. Exploratory Data Analysis.\n",
    "3. Data Modelling & Evaluation.\n",
    "4. Results Discussion.\n",
    "5. Conclusions"
   ]
  },
  {
   "cell_type": "markdown",
   "id": "5f17f8e3",
   "metadata": {},
   "source": []
  },
  {
   "cell_type": "markdown",
   "id": "d57726e0",
   "metadata": {},
   "source": []
  },
  {
   "cell_type": "markdown",
   "id": "b42831bb",
   "metadata": {},
   "source": [
    "## Implementation"
   ]
  },
  {
   "cell_type": "code",
   "execution_count": 35,
   "id": "13d03eba",
   "metadata": {},
   "outputs": [],
   "source": [
    "# Importing all the required libraries used during model building and prediction.\n",
    "import pandas as pd\n",
    "import numpy as np\n",
    "from sklearn.model_selection import train_test_split\n",
    "from sklearn import metrics\n",
    "from sklearn.ensemble import RandomForestClassifier\n",
    "from sklearn.metrics import classification_report, confusion_matrix\n",
    "from sklearn import metrics\n",
    "from sklearn.model_selection import GridSearchCV\n",
    "from sklearn.preprocessing import StandardScaler\n",
    "from sklearn.neighbors import KNeighborsClassifier\n",
    "import matplotlib.pyplot as plt\n",
    "import seaborn as sns\n",
    "import random\n",
    "%matplotlib inline"
   ]
  },
  {
   "cell_type": "markdown",
   "id": "cb3b2e7d",
   "metadata": {},
   "source": [
    "### Data Preprocessing\n",
    "\n",
    "1. Data Preprocessing: This step involves preparation of data for analysis. First of all the data is checked for null values and it is found that we do not have any null values in the dataset. The second step is to check for data imbalancing. From the histogram attached in the implementation step for Target variable, we can see that almost equal number of instances are present for both classes that is delayed flights and on time flights. Hence we can say that no data balancing issues are present. The next step is to removed unnecessary columns which includes ID and Flight number as they do not provide us any important information, hence they are removed. The continuous columns are scaled using MinMax function and the categorical columns are label encoded using label encoder and finally data is divided into training and testing set. A split of 70% for training and 30% for testing is used. "
   ]
  },
  {
   "cell_type": "code",
   "execution_count": 36,
   "id": "509635eb",
   "metadata": {},
   "outputs": [
    {
     "data": {
      "text/html": [
       "<div>\n",
       "<style scoped>\n",
       "    .dataframe tbody tr th:only-of-type {\n",
       "        vertical-align: middle;\n",
       "    }\n",
       "\n",
       "    .dataframe tbody tr th {\n",
       "        vertical-align: top;\n",
       "    }\n",
       "\n",
       "    .dataframe thead th {\n",
       "        text-align: right;\n",
       "    }\n",
       "</style>\n",
       "<table border=\"1\" class=\"dataframe\">\n",
       "  <thead>\n",
       "    <tr style=\"text-align: right;\">\n",
       "      <th></th>\n",
       "      <th>id</th>\n",
       "      <th>Airline</th>\n",
       "      <th>Flight</th>\n",
       "      <th>AirportFrom</th>\n",
       "      <th>AirportTo</th>\n",
       "      <th>DayOfWeek</th>\n",
       "      <th>Time</th>\n",
       "      <th>Length</th>\n",
       "      <th>Delay</th>\n",
       "    </tr>\n",
       "  </thead>\n",
       "  <tbody>\n",
       "    <tr>\n",
       "      <th>0</th>\n",
       "      <td>1</td>\n",
       "      <td>CO</td>\n",
       "      <td>269</td>\n",
       "      <td>SFO</td>\n",
       "      <td>IAH</td>\n",
       "      <td>3</td>\n",
       "      <td>15</td>\n",
       "      <td>205</td>\n",
       "      <td>1</td>\n",
       "    </tr>\n",
       "    <tr>\n",
       "      <th>1</th>\n",
       "      <td>2</td>\n",
       "      <td>US</td>\n",
       "      <td>1558</td>\n",
       "      <td>PHX</td>\n",
       "      <td>CLT</td>\n",
       "      <td>3</td>\n",
       "      <td>15</td>\n",
       "      <td>222</td>\n",
       "      <td>1</td>\n",
       "    </tr>\n",
       "    <tr>\n",
       "      <th>2</th>\n",
       "      <td>3</td>\n",
       "      <td>AA</td>\n",
       "      <td>2400</td>\n",
       "      <td>LAX</td>\n",
       "      <td>DFW</td>\n",
       "      <td>3</td>\n",
       "      <td>20</td>\n",
       "      <td>165</td>\n",
       "      <td>1</td>\n",
       "    </tr>\n",
       "    <tr>\n",
       "      <th>3</th>\n",
       "      <td>4</td>\n",
       "      <td>AA</td>\n",
       "      <td>2466</td>\n",
       "      <td>SFO</td>\n",
       "      <td>DFW</td>\n",
       "      <td>3</td>\n",
       "      <td>20</td>\n",
       "      <td>195</td>\n",
       "      <td>1</td>\n",
       "    </tr>\n",
       "    <tr>\n",
       "      <th>4</th>\n",
       "      <td>5</td>\n",
       "      <td>AS</td>\n",
       "      <td>108</td>\n",
       "      <td>ANC</td>\n",
       "      <td>SEA</td>\n",
       "      <td>3</td>\n",
       "      <td>30</td>\n",
       "      <td>202</td>\n",
       "      <td>0</td>\n",
       "    </tr>\n",
       "    <tr>\n",
       "      <th>5</th>\n",
       "      <td>6</td>\n",
       "      <td>CO</td>\n",
       "      <td>1094</td>\n",
       "      <td>LAX</td>\n",
       "      <td>IAH</td>\n",
       "      <td>3</td>\n",
       "      <td>30</td>\n",
       "      <td>181</td>\n",
       "      <td>1</td>\n",
       "    </tr>\n",
       "    <tr>\n",
       "      <th>6</th>\n",
       "      <td>7</td>\n",
       "      <td>DL</td>\n",
       "      <td>1768</td>\n",
       "      <td>LAX</td>\n",
       "      <td>MSP</td>\n",
       "      <td>3</td>\n",
       "      <td>30</td>\n",
       "      <td>220</td>\n",
       "      <td>0</td>\n",
       "    </tr>\n",
       "    <tr>\n",
       "      <th>7</th>\n",
       "      <td>8</td>\n",
       "      <td>DL</td>\n",
       "      <td>2722</td>\n",
       "      <td>PHX</td>\n",
       "      <td>DTW</td>\n",
       "      <td>3</td>\n",
       "      <td>30</td>\n",
       "      <td>228</td>\n",
       "      <td>0</td>\n",
       "    </tr>\n",
       "    <tr>\n",
       "      <th>8</th>\n",
       "      <td>9</td>\n",
       "      <td>DL</td>\n",
       "      <td>2606</td>\n",
       "      <td>SFO</td>\n",
       "      <td>MSP</td>\n",
       "      <td>3</td>\n",
       "      <td>35</td>\n",
       "      <td>216</td>\n",
       "      <td>1</td>\n",
       "    </tr>\n",
       "    <tr>\n",
       "      <th>9</th>\n",
       "      <td>10</td>\n",
       "      <td>AA</td>\n",
       "      <td>2538</td>\n",
       "      <td>LAS</td>\n",
       "      <td>ORD</td>\n",
       "      <td>3</td>\n",
       "      <td>40</td>\n",
       "      <td>200</td>\n",
       "      <td>1</td>\n",
       "    </tr>\n",
       "  </tbody>\n",
       "</table>\n",
       "</div>"
      ],
      "text/plain": [
       "   id Airline  Flight AirportFrom AirportTo  DayOfWeek  Time  Length  Delay\n",
       "0   1      CO     269         SFO       IAH          3    15     205      1\n",
       "1   2      US    1558         PHX       CLT          3    15     222      1\n",
       "2   3      AA    2400         LAX       DFW          3    20     165      1\n",
       "3   4      AA    2466         SFO       DFW          3    20     195      1\n",
       "4   5      AS     108         ANC       SEA          3    30     202      0\n",
       "5   6      CO    1094         LAX       IAH          3    30     181      1\n",
       "6   7      DL    1768         LAX       MSP          3    30     220      0\n",
       "7   8      DL    2722         PHX       DTW          3    30     228      0\n",
       "8   9      DL    2606         SFO       MSP          3    35     216      1\n",
       "9  10      AA    2538         LAS       ORD          3    40     200      1"
      ]
     },
     "execution_count": 36,
     "metadata": {},
     "output_type": "execute_result"
    }
   ],
   "source": [
    "# Print head of the data to see how exactly the data looks like.\n",
    "data = pd.read_csv(r'Airlines.csv')\n",
    "data.head(10)"
   ]
  },
  {
   "cell_type": "code",
   "execution_count": 37,
   "id": "5fbcc79e",
   "metadata": {},
   "outputs": [
    {
     "data": {
      "text/plain": [
       "id             0\n",
       "Airline        0\n",
       "Flight         0\n",
       "AirportFrom    0\n",
       "AirportTo      0\n",
       "DayOfWeek      0\n",
       "Time           0\n",
       "Length         0\n",
       "Delay          0\n",
       "dtype: int64"
      ]
     },
     "execution_count": 37,
     "metadata": {},
     "output_type": "execute_result"
    }
   ],
   "source": [
    "data.isna().sum()"
   ]
  },
  {
   "cell_type": "code",
   "execution_count": 38,
   "id": "9455a02d",
   "metadata": {},
   "outputs": [
    {
     "data": {
      "text/plain": [
       "(539383, 9)"
      ]
     },
     "execution_count": 38,
     "metadata": {},
     "output_type": "execute_result"
    }
   ],
   "source": [
    "data.shape"
   ]
  },
  {
   "cell_type": "code",
   "execution_count": 39,
   "id": "9641084f",
   "metadata": {},
   "outputs": [
    {
     "name": "stdout",
     "output_type": "stream",
     "text": [
      "<class 'pandas.core.frame.DataFrame'>\n",
      "RangeIndex: 539383 entries, 0 to 539382\n",
      "Data columns (total 9 columns):\n",
      " #   Column       Non-Null Count   Dtype \n",
      "---  ------       --------------   ----- \n",
      " 0   id           539383 non-null  int64 \n",
      " 1   Airline      539383 non-null  object\n",
      " 2   Flight       539383 non-null  int64 \n",
      " 3   AirportFrom  539383 non-null  object\n",
      " 4   AirportTo    539383 non-null  object\n",
      " 5   DayOfWeek    539383 non-null  int64 \n",
      " 6   Time         539383 non-null  int64 \n",
      " 7   Length       539383 non-null  int64 \n",
      " 8   Delay        539383 non-null  int64 \n",
      "dtypes: int64(6), object(3)\n",
      "memory usage: 37.0+ MB\n"
     ]
    }
   ],
   "source": [
    "data.info()"
   ]
  },
  {
   "cell_type": "code",
   "execution_count": 40,
   "id": "776b1707",
   "metadata": {},
   "outputs": [
    {
     "data": {
      "text/html": [
       "<div>\n",
       "<style scoped>\n",
       "    .dataframe tbody tr th:only-of-type {\n",
       "        vertical-align: middle;\n",
       "    }\n",
       "\n",
       "    .dataframe tbody tr th {\n",
       "        vertical-align: top;\n",
       "    }\n",
       "\n",
       "    .dataframe thead th {\n",
       "        text-align: right;\n",
       "    }\n",
       "</style>\n",
       "<table border=\"1\" class=\"dataframe\">\n",
       "  <thead>\n",
       "    <tr style=\"text-align: right;\">\n",
       "      <th></th>\n",
       "      <th>id</th>\n",
       "      <th>Flight</th>\n",
       "      <th>DayOfWeek</th>\n",
       "      <th>Time</th>\n",
       "      <th>Length</th>\n",
       "      <th>Delay</th>\n",
       "    </tr>\n",
       "  </thead>\n",
       "  <tbody>\n",
       "    <tr>\n",
       "      <th>count</th>\n",
       "      <td>539383.00000</td>\n",
       "      <td>539383.000000</td>\n",
       "      <td>539383.000000</td>\n",
       "      <td>539383.000000</td>\n",
       "      <td>539383.000000</td>\n",
       "      <td>539383.000000</td>\n",
       "    </tr>\n",
       "    <tr>\n",
       "      <th>mean</th>\n",
       "      <td>269692.00000</td>\n",
       "      <td>2427.928630</td>\n",
       "      <td>3.929668</td>\n",
       "      <td>802.728963</td>\n",
       "      <td>132.202007</td>\n",
       "      <td>0.445442</td>\n",
       "    </tr>\n",
       "    <tr>\n",
       "      <th>std</th>\n",
       "      <td>155706.60446</td>\n",
       "      <td>2067.429837</td>\n",
       "      <td>1.914664</td>\n",
       "      <td>278.045911</td>\n",
       "      <td>70.117016</td>\n",
       "      <td>0.497015</td>\n",
       "    </tr>\n",
       "    <tr>\n",
       "      <th>min</th>\n",
       "      <td>1.00000</td>\n",
       "      <td>1.000000</td>\n",
       "      <td>1.000000</td>\n",
       "      <td>10.000000</td>\n",
       "      <td>0.000000</td>\n",
       "      <td>0.000000</td>\n",
       "    </tr>\n",
       "    <tr>\n",
       "      <th>25%</th>\n",
       "      <td>134846.50000</td>\n",
       "      <td>712.000000</td>\n",
       "      <td>2.000000</td>\n",
       "      <td>565.000000</td>\n",
       "      <td>81.000000</td>\n",
       "      <td>0.000000</td>\n",
       "    </tr>\n",
       "    <tr>\n",
       "      <th>50%</th>\n",
       "      <td>269692.00000</td>\n",
       "      <td>1809.000000</td>\n",
       "      <td>4.000000</td>\n",
       "      <td>795.000000</td>\n",
       "      <td>115.000000</td>\n",
       "      <td>0.000000</td>\n",
       "    </tr>\n",
       "    <tr>\n",
       "      <th>75%</th>\n",
       "      <td>404537.50000</td>\n",
       "      <td>3745.000000</td>\n",
       "      <td>5.000000</td>\n",
       "      <td>1035.000000</td>\n",
       "      <td>162.000000</td>\n",
       "      <td>1.000000</td>\n",
       "    </tr>\n",
       "    <tr>\n",
       "      <th>max</th>\n",
       "      <td>539383.00000</td>\n",
       "      <td>7814.000000</td>\n",
       "      <td>7.000000</td>\n",
       "      <td>1439.000000</td>\n",
       "      <td>655.000000</td>\n",
       "      <td>1.000000</td>\n",
       "    </tr>\n",
       "  </tbody>\n",
       "</table>\n",
       "</div>"
      ],
      "text/plain": [
       "                 id         Flight      DayOfWeek           Time  \\\n",
       "count  539383.00000  539383.000000  539383.000000  539383.000000   \n",
       "mean   269692.00000    2427.928630       3.929668     802.728963   \n",
       "std    155706.60446    2067.429837       1.914664     278.045911   \n",
       "min         1.00000       1.000000       1.000000      10.000000   \n",
       "25%    134846.50000     712.000000       2.000000     565.000000   \n",
       "50%    269692.00000    1809.000000       4.000000     795.000000   \n",
       "75%    404537.50000    3745.000000       5.000000    1035.000000   \n",
       "max    539383.00000    7814.000000       7.000000    1439.000000   \n",
       "\n",
       "              Length          Delay  \n",
       "count  539383.000000  539383.000000  \n",
       "mean      132.202007       0.445442  \n",
       "std        70.117016       0.497015  \n",
       "min         0.000000       0.000000  \n",
       "25%        81.000000       0.000000  \n",
       "50%       115.000000       0.000000  \n",
       "75%       162.000000       1.000000  \n",
       "max       655.000000       1.000000  "
      ]
     },
     "execution_count": 40,
     "metadata": {},
     "output_type": "execute_result"
    }
   ],
   "source": [
    "data.describe()"
   ]
  },
  {
   "cell_type": "code",
   "execution_count": 41,
   "id": "a31eb335",
   "metadata": {
    "scrolled": true
   },
   "outputs": [
    {
     "data": {
      "text/html": [
       "<div>\n",
       "<style scoped>\n",
       "    .dataframe tbody tr th:only-of-type {\n",
       "        vertical-align: middle;\n",
       "    }\n",
       "\n",
       "    .dataframe tbody tr th {\n",
       "        vertical-align: top;\n",
       "    }\n",
       "\n",
       "    .dataframe thead th {\n",
       "        text-align: right;\n",
       "    }\n",
       "</style>\n",
       "<table border=\"1\" class=\"dataframe\">\n",
       "  <thead>\n",
       "    <tr style=\"text-align: right;\">\n",
       "      <th></th>\n",
       "      <th>id</th>\n",
       "      <th>Flight</th>\n",
       "      <th>DayOfWeek</th>\n",
       "      <th>Time</th>\n",
       "      <th>Length</th>\n",
       "      <th>Delay</th>\n",
       "    </tr>\n",
       "  </thead>\n",
       "  <tbody>\n",
       "    <tr>\n",
       "      <th>id</th>\n",
       "      <td>1.000000</td>\n",
       "      <td>-0.006156</td>\n",
       "      <td>-0.055474</td>\n",
       "      <td>0.029156</td>\n",
       "      <td>0.020781</td>\n",
       "      <td>0.139762</td>\n",
       "    </tr>\n",
       "    <tr>\n",
       "      <th>Flight</th>\n",
       "      <td>-0.006156</td>\n",
       "      <td>1.000000</td>\n",
       "      <td>0.000416</td>\n",
       "      <td>-0.005750</td>\n",
       "      <td>-0.341481</td>\n",
       "      <td>-0.046175</td>\n",
       "    </tr>\n",
       "    <tr>\n",
       "      <th>DayOfWeek</th>\n",
       "      <td>-0.055474</td>\n",
       "      <td>0.000416</td>\n",
       "      <td>1.000000</td>\n",
       "      <td>0.001273</td>\n",
       "      <td>0.013397</td>\n",
       "      <td>-0.026199</td>\n",
       "    </tr>\n",
       "    <tr>\n",
       "      <th>Time</th>\n",
       "      <td>0.029156</td>\n",
       "      <td>-0.005750</td>\n",
       "      <td>0.001273</td>\n",
       "      <td>1.000000</td>\n",
       "      <td>-0.020612</td>\n",
       "      <td>0.150454</td>\n",
       "    </tr>\n",
       "    <tr>\n",
       "      <th>Length</th>\n",
       "      <td>0.020781</td>\n",
       "      <td>-0.341481</td>\n",
       "      <td>0.013397</td>\n",
       "      <td>-0.020612</td>\n",
       "      <td>1.000000</td>\n",
       "      <td>0.040489</td>\n",
       "    </tr>\n",
       "    <tr>\n",
       "      <th>Delay</th>\n",
       "      <td>0.139762</td>\n",
       "      <td>-0.046175</td>\n",
       "      <td>-0.026199</td>\n",
       "      <td>0.150454</td>\n",
       "      <td>0.040489</td>\n",
       "      <td>1.000000</td>\n",
       "    </tr>\n",
       "  </tbody>\n",
       "</table>\n",
       "</div>"
      ],
      "text/plain": [
       "                 id    Flight  DayOfWeek      Time    Length     Delay\n",
       "id         1.000000 -0.006156  -0.055474  0.029156  0.020781  0.139762\n",
       "Flight    -0.006156  1.000000   0.000416 -0.005750 -0.341481 -0.046175\n",
       "DayOfWeek -0.055474  0.000416   1.000000  0.001273  0.013397 -0.026199\n",
       "Time       0.029156 -0.005750   0.001273  1.000000 -0.020612  0.150454\n",
       "Length     0.020781 -0.341481   0.013397 -0.020612  1.000000  0.040489\n",
       "Delay      0.139762 -0.046175  -0.026199  0.150454  0.040489  1.000000"
      ]
     },
     "execution_count": 41,
     "metadata": {},
     "output_type": "execute_result"
    }
   ],
   "source": [
    "data.corr()"
   ]
  },
  {
   "cell_type": "markdown",
   "id": "f16c5f70",
   "metadata": {},
   "source": [
    "### Exploratory Data Analysis\n",
    "2. Exploratory Data Analysis: In this section we have highlighted three important points using data visualizations. The first one is to draw a box plot to check the Length of flight based on delay status. The second point is to check for highest delays by airline and for that purpose we have drawn a bar plot. Finally, the delays by destination are obtained. As we have almost 260+ destination airports, hence the data is sorted based on number of delays and top 10 destination airports by delay are plotted using a bar plot. The highest delay by day of week and by destination airprort is also shown in this section usin different visualizations."
   ]
  },
  {
   "cell_type": "code",
   "execution_count": 42,
   "id": "69b95824",
   "metadata": {},
   "outputs": [
    {
     "data": {
      "image/png": "[encoded data removed]",
      "text/plain": [
       "<Figure size 432x288 with 1 Axes>"
      ]
     },
     "metadata": {
      "needs_background": "light"
     },
     "output_type": "display_data"
    }
   ],
   "source": [
    "# See distribution of target variable. The dataset is balanced here. We can see that target column has almost equal number of \n",
    "# values belonging to class 1 and same number of instances belong to target value of 0. \n",
    "plt.hist(data['Delay'], color = \"green\")\n",
    "plt.xlabel('Target Variable') \n",
    "plt.ylabel('Frequency') \n",
    "# displaying the title\n",
    "plt.title(\"Distribution of Target Variable\")\n",
    "plt.show() "
   ]
  },
  {
   "cell_type": "code",
   "execution_count": 43,
   "id": "643b4165",
   "metadata": {},
   "outputs": [],
   "source": [
    "data = data.drop(['id', 'Flight'], axis = 1)"
   ]
  },
  {
   "cell_type": "code",
   "execution_count": 44,
   "id": "cc7fbbcc",
   "metadata": {},
   "outputs": [
    {
     "data": {
      "text/plain": [
       "<AxesSubplot:xlabel='Delay', ylabel='Length'>"
      ]
     },
     "execution_count": 44,
     "metadata": {},
     "output_type": "execute_result"
    },
    {
     "data": {
      "image/png": "[encoded data removed]",
      "text/plain": [
       "<Figure size 864x432 with 1 Axes>"
      ]
     },
     "metadata": {},
     "output_type": "display_data"
    }
   ],
   "source": [
    "# Boxplot for gender vs salary\n",
    "sns.set(rc={'figure.figsize':(12, 6)})\n",
    "sns.set_style(\"whitegrid\")\n",
    "sns.boxplot(x = 'Delay', y = 'Length', data = data)"
   ]
  },
  {
   "cell_type": "code",
   "execution_count": 45,
   "id": "b0c70b24",
   "metadata": {},
   "outputs": [
    {
     "data": {
      "image/png": "[encoded data removed]",
      "text/plain": [
       "<Figure size 864x432 with 1 Axes>"
      ]
     },
     "metadata": {},
     "output_type": "display_data"
    }
   ],
   "source": [
    "data_1 = data.loc[data['Delay'] == 1]\n",
    "x = pd.DataFrame(data_1.groupby(['Airline']).size())\n",
    "x = x.reset_index()\n",
    "x. rename(columns = {0:'Count'}, inplace = True)\n",
    "colors = sns.color_palette('pastel')[0:5]\n",
    "#create pie chart\n",
    "fig = plt.figure()\n",
    "ax = fig.add_axes([0,0,1,1])\n",
    "ax.bar(x['Airline'],\n",
    "       x['Count'],\n",
    "      color = colors)\n",
    "plt.title(\"Fligh Delays By Airline\")\n",
    "plt.show()"
   ]
  },
  {
   "cell_type": "code",
   "execution_count": 46,
   "id": "9bd037b3",
   "metadata": {},
   "outputs": [
    {
     "data": {
      "image/png": "[encoded data removed]",
      "text/plain": [
       "<Figure size 864x432 with 1 Axes>"
      ]
     },
     "metadata": {},
     "output_type": "display_data"
    }
   ],
   "source": [
    "data_1 = data.loc[data['Delay'] == 1]\n",
    "x = pd.DataFrame(data_1.groupby(['AirportTo']).size())\n",
    "x = x.reset_index()\n",
    "x. rename(columns = {0:'Count'}, inplace = True)\n",
    "x = x.sort_values(by=['Count']) \n",
    "x = x.head(10)\n",
    "colors = sns.color_palette('pastel')[0:5]\n",
    "#create pie chart\n",
    "fig = plt.figure()\n",
    "ax = fig.add_axes([0,0,1,1])\n",
    "ax.bar(x['AirportTo'],\n",
    "       x['Count'],\n",
    "      color = colors)\n",
    "plt.title(\"Top 10 Fligh Delays By Destination\")\n",
    "plt.show()"
   ]
  },
  {
   "cell_type": "code",
   "execution_count": 47,
   "id": "90b168b2",
   "metadata": {
    "scrolled": true
   },
   "outputs": [
    {
     "data": {
      "image/png": "[encoded data removed]",
      "text/plain": [
       "<Figure size 864x432 with 1 Axes>"
      ]
     },
     "metadata": {},
     "output_type": "display_data"
    }
   ],
   "source": [
    "data_1 = data.loc[data['Delay'] == 1]\n",
    "x = pd.DataFrame(data_1.groupby(['DayOfWeek']).size())\n",
    "x = x.reset_index()\n",
    "x. rename(columns = {0:'Count'}, inplace = True)\n",
    "colors = sns.color_palette('pastel')[0:5]\n",
    "#create pie chart\n",
    "fig = plt.figure()\n",
    "ax = fig.add_axes([0,0,1,1])\n",
    "ax.bar(x['DayOfWeek'],\n",
    "       x['Count'],\n",
    "      color = colors)\n",
    "plt.title(\"Fligh Delays By Day of Week\")\n",
    "plt.show()"
   ]
  },
  {
   "cell_type": "code",
   "execution_count": 51,
   "id": "f06b1cf2",
   "metadata": {},
   "outputs": [
    {
     "data": {
      "image/png": "[encoded data removed]",
      "text/plain": [
       "<Figure size 864x432 with 1 Axes>"
      ]
     },
     "metadata": {},
     "output_type": "display_data"
    }
   ],
   "source": [
    "data_1 = data.loc[data['Delay'] == 1]\n",
    "x = pd.DataFrame(data_1.groupby(['AirportTo']).size())\n",
    "x = x.reset_index()\n",
    "x. rename(columns = {0:'Count'}, inplace = True)\n",
    "x = x.sort_values(by =['Count'])\n",
    "x = x.head(10)\n",
    "colors = sns.color_palette('pastel')[0:5]\n",
    "#create pie chart\n",
    "fig = plt.figure()\n",
    "ax = fig.add_axes([0,0,1,1])\n",
    "ax.bar(x['AirportTo'],\n",
    "       x['Count'],\n",
    "      color = colors)\n",
    "plt.title(\"Flight Delays By Airport\")\n",
    "plt.show()"
   ]
  },
  {
   "cell_type": "markdown",
   "id": "37645c62",
   "metadata": {},
   "source": [
    "### Processing Data for Modelling\n",
    "\n",
    "This includes, scaling the numerical variables, encoding the categorical variables and splitting the data for training and testing sets with a split of 70% and 30%."
   ]
  },
  {
   "cell_type": "code",
   "execution_count": 21,
   "id": "b085dabd",
   "metadata": {},
   "outputs": [
    {
     "data": {
      "text/html": [
       "<div>\n",
       "<style scoped>\n",
       "    .dataframe tbody tr th:only-of-type {\n",
       "        vertical-align: middle;\n",
       "    }\n",
       "\n",
       "    .dataframe tbody tr th {\n",
       "        vertical-align: top;\n",
       "    }\n",
       "\n",
       "    .dataframe thead th {\n",
       "        text-align: right;\n",
       "    }\n",
       "</style>\n",
       "<table border=\"1\" class=\"dataframe\">\n",
       "  <thead>\n",
       "    <tr style=\"text-align: right;\">\n",
       "      <th></th>\n",
       "      <th>Airline</th>\n",
       "      <th>AirportFrom</th>\n",
       "      <th>AirportTo</th>\n",
       "      <th>DayOfWeek</th>\n",
       "      <th>Time</th>\n",
       "      <th>Length</th>\n",
       "      <th>Delay</th>\n",
       "    </tr>\n",
       "  </thead>\n",
       "  <tbody>\n",
       "    <tr>\n",
       "      <th>0</th>\n",
       "      <td>CO</td>\n",
       "      <td>SFO</td>\n",
       "      <td>IAH</td>\n",
       "      <td>0.333333</td>\n",
       "      <td>0.003499</td>\n",
       "      <td>0.312977</td>\n",
       "      <td>1</td>\n",
       "    </tr>\n",
       "    <tr>\n",
       "      <th>1</th>\n",
       "      <td>US</td>\n",
       "      <td>PHX</td>\n",
       "      <td>CLT</td>\n",
       "      <td>0.333333</td>\n",
       "      <td>0.003499</td>\n",
       "      <td>0.338931</td>\n",
       "      <td>1</td>\n",
       "    </tr>\n",
       "    <tr>\n",
       "      <th>2</th>\n",
       "      <td>AA</td>\n",
       "      <td>LAX</td>\n",
       "      <td>DFW</td>\n",
       "      <td>0.333333</td>\n",
       "      <td>0.006998</td>\n",
       "      <td>0.251908</td>\n",
       "      <td>1</td>\n",
       "    </tr>\n",
       "    <tr>\n",
       "      <th>3</th>\n",
       "      <td>AA</td>\n",
       "      <td>SFO</td>\n",
       "      <td>DFW</td>\n",
       "      <td>0.333333</td>\n",
       "      <td>0.006998</td>\n",
       "      <td>0.297710</td>\n",
       "      <td>1</td>\n",
       "    </tr>\n",
       "    <tr>\n",
       "      <th>4</th>\n",
       "      <td>AS</td>\n",
       "      <td>ANC</td>\n",
       "      <td>SEA</td>\n",
       "      <td>0.333333</td>\n",
       "      <td>0.013996</td>\n",
       "      <td>0.308397</td>\n",
       "      <td>0</td>\n",
       "    </tr>\n",
       "    <tr>\n",
       "      <th>5</th>\n",
       "      <td>CO</td>\n",
       "      <td>LAX</td>\n",
       "      <td>IAH</td>\n",
       "      <td>0.333333</td>\n",
       "      <td>0.013996</td>\n",
       "      <td>0.276336</td>\n",
       "      <td>1</td>\n",
       "    </tr>\n",
       "    <tr>\n",
       "      <th>6</th>\n",
       "      <td>DL</td>\n",
       "      <td>LAX</td>\n",
       "      <td>MSP</td>\n",
       "      <td>0.333333</td>\n",
       "      <td>0.013996</td>\n",
       "      <td>0.335878</td>\n",
       "      <td>0</td>\n",
       "    </tr>\n",
       "    <tr>\n",
       "      <th>7</th>\n",
       "      <td>DL</td>\n",
       "      <td>PHX</td>\n",
       "      <td>DTW</td>\n",
       "      <td>0.333333</td>\n",
       "      <td>0.013996</td>\n",
       "      <td>0.348092</td>\n",
       "      <td>0</td>\n",
       "    </tr>\n",
       "    <tr>\n",
       "      <th>8</th>\n",
       "      <td>DL</td>\n",
       "      <td>SFO</td>\n",
       "      <td>MSP</td>\n",
       "      <td>0.333333</td>\n",
       "      <td>0.017495</td>\n",
       "      <td>0.329771</td>\n",
       "      <td>1</td>\n",
       "    </tr>\n",
       "    <tr>\n",
       "      <th>9</th>\n",
       "      <td>AA</td>\n",
       "      <td>LAS</td>\n",
       "      <td>ORD</td>\n",
       "      <td>0.333333</td>\n",
       "      <td>0.020994</td>\n",
       "      <td>0.305344</td>\n",
       "      <td>1</td>\n",
       "    </tr>\n",
       "  </tbody>\n",
       "</table>\n",
       "</div>"
      ],
      "text/plain": [
       "  Airline AirportFrom AirportTo  DayOfWeek      Time    Length  Delay\n",
       "0      CO         SFO       IAH   0.333333  0.003499  0.312977      1\n",
       "1      US         PHX       CLT   0.333333  0.003499  0.338931      1\n",
       "2      AA         LAX       DFW   0.333333  0.006998  0.251908      1\n",
       "3      AA         SFO       DFW   0.333333  0.006998  0.297710      1\n",
       "4      AS         ANC       SEA   0.333333  0.013996  0.308397      0\n",
       "5      CO         LAX       IAH   0.333333  0.013996  0.276336      1\n",
       "6      DL         LAX       MSP   0.333333  0.013996  0.335878      0\n",
       "7      DL         PHX       DTW   0.333333  0.013996  0.348092      0\n",
       "8      DL         SFO       MSP   0.333333  0.017495  0.329771      1\n",
       "9      AA         LAS       ORD   0.333333  0.020994  0.305344      1"
      ]
     },
     "execution_count": 21,
     "metadata": {},
     "output_type": "execute_result"
    }
   ],
   "source": [
    "from sklearn.preprocessing import MinMaxScaler, StandardScaler\n",
    "# Transform data and sclae a dataset. This process is important to bring the dataset on one scale so that the classifier\n",
    "# learns and performs better.\n",
    "data[['DayOfWeek',\n",
    "      'Time', \n",
    "      'Length']] = MinMaxScaler().fit_transform(data[['DayOfWeek',\n",
    "                                                      'Time', \n",
    "                                                      'Length']])\n",
    "data.head(10)"
   ]
  },
  {
   "cell_type": "code",
   "execution_count": 22,
   "id": "65909963",
   "metadata": {},
   "outputs": [
    {
     "data": {
      "text/plain": [
       "0    299119\n",
       "1    240264\n",
       "Name: Delay, dtype: int64"
      ]
     },
     "execution_count": 22,
     "metadata": {},
     "output_type": "execute_result"
    }
   ],
   "source": [
    "#Checking the distribution of target column. We can see that target column of value 1 has only 492 values while for target\n",
    "#value 0 the instances are much larger.\n",
    "data['Delay'].value_counts()"
   ]
  },
  {
   "cell_type": "code",
   "execution_count": 23,
   "id": "ed50b421",
   "metadata": {},
   "outputs": [
    {
     "data": {
      "text/html": [
       "<div>\n",
       "<style scoped>\n",
       "    .dataframe tbody tr th:only-of-type {\n",
       "        vertical-align: middle;\n",
       "    }\n",
       "\n",
       "    .dataframe tbody tr th {\n",
       "        vertical-align: top;\n",
       "    }\n",
       "\n",
       "    .dataframe thead th {\n",
       "        text-align: right;\n",
       "    }\n",
       "</style>\n",
       "<table border=\"1\" class=\"dataframe\">\n",
       "  <thead>\n",
       "    <tr style=\"text-align: right;\">\n",
       "      <th></th>\n",
       "      <th>Airline</th>\n",
       "      <th>AirportFrom</th>\n",
       "      <th>AirportTo</th>\n",
       "      <th>DayOfWeek</th>\n",
       "      <th>Time</th>\n",
       "      <th>Length</th>\n",
       "      <th>Delay</th>\n",
       "    </tr>\n",
       "  </thead>\n",
       "  <tbody>\n",
       "    <tr>\n",
       "      <th>0</th>\n",
       "      <td>4</td>\n",
       "      <td>253</td>\n",
       "      <td>135</td>\n",
       "      <td>0.333333</td>\n",
       "      <td>0.003499</td>\n",
       "      <td>0.312977</td>\n",
       "      <td>1</td>\n",
       "    </tr>\n",
       "    <tr>\n",
       "      <th>1</th>\n",
       "      <td>14</td>\n",
       "      <td>217</td>\n",
       "      <td>60</td>\n",
       "      <td>0.333333</td>\n",
       "      <td>0.003499</td>\n",
       "      <td>0.338931</td>\n",
       "      <td>1</td>\n",
       "    </tr>\n",
       "    <tr>\n",
       "      <th>2</th>\n",
       "      <td>1</td>\n",
       "      <td>154</td>\n",
       "      <td>80</td>\n",
       "      <td>0.333333</td>\n",
       "      <td>0.006998</td>\n",
       "      <td>0.251908</td>\n",
       "      <td>1</td>\n",
       "    </tr>\n",
       "    <tr>\n",
       "      <th>3</th>\n",
       "      <td>1</td>\n",
       "      <td>253</td>\n",
       "      <td>80</td>\n",
       "      <td>0.333333</td>\n",
       "      <td>0.006998</td>\n",
       "      <td>0.297710</td>\n",
       "      <td>1</td>\n",
       "    </tr>\n",
       "    <tr>\n",
       "      <th>4</th>\n",
       "      <td>2</td>\n",
       "      <td>14</td>\n",
       "      <td>252</td>\n",
       "      <td>0.333333</td>\n",
       "      <td>0.013996</td>\n",
       "      <td>0.308397</td>\n",
       "      <td>0</td>\n",
       "    </tr>\n",
       "    <tr>\n",
       "      <th>5</th>\n",
       "      <td>4</td>\n",
       "      <td>154</td>\n",
       "      <td>135</td>\n",
       "      <td>0.333333</td>\n",
       "      <td>0.013996</td>\n",
       "      <td>0.276336</td>\n",
       "      <td>1</td>\n",
       "    </tr>\n",
       "    <tr>\n",
       "      <th>6</th>\n",
       "      <td>5</td>\n",
       "      <td>154</td>\n",
       "      <td>197</td>\n",
       "      <td>0.333333</td>\n",
       "      <td>0.013996</td>\n",
       "      <td>0.335878</td>\n",
       "      <td>0</td>\n",
       "    </tr>\n",
       "    <tr>\n",
       "      <th>7</th>\n",
       "      <td>5</td>\n",
       "      <td>217</td>\n",
       "      <td>85</td>\n",
       "      <td>0.333333</td>\n",
       "      <td>0.013996</td>\n",
       "      <td>0.348092</td>\n",
       "      <td>0</td>\n",
       "    </tr>\n",
       "    <tr>\n",
       "      <th>8</th>\n",
       "      <td>5</td>\n",
       "      <td>253</td>\n",
       "      <td>197</td>\n",
       "      <td>0.333333</td>\n",
       "      <td>0.017495</td>\n",
       "      <td>0.329771</td>\n",
       "      <td>1</td>\n",
       "    </tr>\n",
       "    <tr>\n",
       "      <th>9</th>\n",
       "      <td>1</td>\n",
       "      <td>153</td>\n",
       "      <td>208</td>\n",
       "      <td>0.333333</td>\n",
       "      <td>0.020994</td>\n",
       "      <td>0.305344</td>\n",
       "      <td>1</td>\n",
       "    </tr>\n",
       "  </tbody>\n",
       "</table>\n",
       "</div>"
      ],
      "text/plain": [
       "   Airline  AirportFrom  AirportTo  DayOfWeek      Time    Length  Delay\n",
       "0        4          253        135   0.333333  0.003499  0.312977      1\n",
       "1       14          217         60   0.333333  0.003499  0.338931      1\n",
       "2        1          154         80   0.333333  0.006998  0.251908      1\n",
       "3        1          253         80   0.333333  0.006998  0.297710      1\n",
       "4        2           14        252   0.333333  0.013996  0.308397      0\n",
       "5        4          154        135   0.333333  0.013996  0.276336      1\n",
       "6        5          154        197   0.333333  0.013996  0.335878      0\n",
       "7        5          217         85   0.333333  0.013996  0.348092      0\n",
       "8        5          253        197   0.333333  0.017495  0.329771      1\n",
       "9        1          153        208   0.333333  0.020994  0.305344      1"
      ]
     },
     "execution_count": 23,
     "metadata": {},
     "output_type": "execute_result"
    }
   ],
   "source": [
    "from sklearn import preprocessing\n",
    "  \n",
    "# label_encoder object knows how to understand word labels.\n",
    "label_encoder = preprocessing.LabelEncoder()\n",
    "  \n",
    "# Encode labels in column 'species'.\n",
    "data['Airline']= label_encoder.fit_transform(data['Airline'])\n",
    "data['AirportFrom']= label_encoder.fit_transform(data['AirportFrom'])\n",
    "data['AirportTo']= label_encoder.fit_transform(data['AirportTo'])\n",
    "data.head(10)"
   ]
  },
  {
   "cell_type": "code",
   "execution_count": 24,
   "id": "a824cd72",
   "metadata": {},
   "outputs": [],
   "source": [
    "#Separating the target column and features and meanwhile removing unnecessary columns.\n",
    "X = data.drop(['Delay'], axis = 1)\n",
    "y = data['Delay']"
   ]
  },
  {
   "cell_type": "code",
   "execution_count": 25,
   "id": "b8d587bb",
   "metadata": {},
   "outputs": [
    {
     "data": {
      "text/html": [
       "<div>\n",
       "<style scoped>\n",
       "    .dataframe tbody tr th:only-of-type {\n",
       "        vertical-align: middle;\n",
       "    }\n",
       "\n",
       "    .dataframe tbody tr th {\n",
       "        vertical-align: top;\n",
       "    }\n",
       "\n",
       "    .dataframe thead th {\n",
       "        text-align: right;\n",
       "    }\n",
       "</style>\n",
       "<table border=\"1\" class=\"dataframe\">\n",
       "  <thead>\n",
       "    <tr style=\"text-align: right;\">\n",
       "      <th></th>\n",
       "      <th>Airline</th>\n",
       "      <th>AirportFrom</th>\n",
       "      <th>AirportTo</th>\n",
       "      <th>DayOfWeek</th>\n",
       "      <th>Time</th>\n",
       "      <th>Length</th>\n",
       "    </tr>\n",
       "  </thead>\n",
       "  <tbody>\n",
       "    <tr>\n",
       "      <th>0</th>\n",
       "      <td>4</td>\n",
       "      <td>253</td>\n",
       "      <td>135</td>\n",
       "      <td>0.333333</td>\n",
       "      <td>0.003499</td>\n",
       "      <td>0.312977</td>\n",
       "    </tr>\n",
       "    <tr>\n",
       "      <th>1</th>\n",
       "      <td>14</td>\n",
       "      <td>217</td>\n",
       "      <td>60</td>\n",
       "      <td>0.333333</td>\n",
       "      <td>0.003499</td>\n",
       "      <td>0.338931</td>\n",
       "    </tr>\n",
       "    <tr>\n",
       "      <th>2</th>\n",
       "      <td>1</td>\n",
       "      <td>154</td>\n",
       "      <td>80</td>\n",
       "      <td>0.333333</td>\n",
       "      <td>0.006998</td>\n",
       "      <td>0.251908</td>\n",
       "    </tr>\n",
       "    <tr>\n",
       "      <th>3</th>\n",
       "      <td>1</td>\n",
       "      <td>253</td>\n",
       "      <td>80</td>\n",
       "      <td>0.333333</td>\n",
       "      <td>0.006998</td>\n",
       "      <td>0.297710</td>\n",
       "    </tr>\n",
       "    <tr>\n",
       "      <th>4</th>\n",
       "      <td>2</td>\n",
       "      <td>14</td>\n",
       "      <td>252</td>\n",
       "      <td>0.333333</td>\n",
       "      <td>0.013996</td>\n",
       "      <td>0.308397</td>\n",
       "    </tr>\n",
       "    <tr>\n",
       "      <th>5</th>\n",
       "      <td>4</td>\n",
       "      <td>154</td>\n",
       "      <td>135</td>\n",
       "      <td>0.333333</td>\n",
       "      <td>0.013996</td>\n",
       "      <td>0.276336</td>\n",
       "    </tr>\n",
       "    <tr>\n",
       "      <th>6</th>\n",
       "      <td>5</td>\n",
       "      <td>154</td>\n",
       "      <td>197</td>\n",
       "      <td>0.333333</td>\n",
       "      <td>0.013996</td>\n",
       "      <td>0.335878</td>\n",
       "    </tr>\n",
       "    <tr>\n",
       "      <th>7</th>\n",
       "      <td>5</td>\n",
       "      <td>217</td>\n",
       "      <td>85</td>\n",
       "      <td>0.333333</td>\n",
       "      <td>0.013996</td>\n",
       "      <td>0.348092</td>\n",
       "    </tr>\n",
       "    <tr>\n",
       "      <th>8</th>\n",
       "      <td>5</td>\n",
       "      <td>253</td>\n",
       "      <td>197</td>\n",
       "      <td>0.333333</td>\n",
       "      <td>0.017495</td>\n",
       "      <td>0.329771</td>\n",
       "    </tr>\n",
       "    <tr>\n",
       "      <th>9</th>\n",
       "      <td>1</td>\n",
       "      <td>153</td>\n",
       "      <td>208</td>\n",
       "      <td>0.333333</td>\n",
       "      <td>0.020994</td>\n",
       "      <td>0.305344</td>\n",
       "    </tr>\n",
       "  </tbody>\n",
       "</table>\n",
       "</div>"
      ],
      "text/plain": [
       "   Airline  AirportFrom  AirportTo  DayOfWeek      Time    Length\n",
       "0        4          253        135   0.333333  0.003499  0.312977\n",
       "1       14          217         60   0.333333  0.003499  0.338931\n",
       "2        1          154         80   0.333333  0.006998  0.251908\n",
       "3        1          253         80   0.333333  0.006998  0.297710\n",
       "4        2           14        252   0.333333  0.013996  0.308397\n",
       "5        4          154        135   0.333333  0.013996  0.276336\n",
       "6        5          154        197   0.333333  0.013996  0.335878\n",
       "7        5          217         85   0.333333  0.013996  0.348092\n",
       "8        5          253        197   0.333333  0.017495  0.329771\n",
       "9        1          153        208   0.333333  0.020994  0.305344"
      ]
     },
     "execution_count": 25,
     "metadata": {},
     "output_type": "execute_result"
    }
   ],
   "source": [
    "X.head(10)"
   ]
  },
  {
   "cell_type": "markdown",
   "id": "cec1dd13",
   "metadata": {},
   "source": [
    "### Data Modelling & Evaluation\n",
    "\n",
    "3. Modelling & Evaluation: The third step is to perform data modelling. We have built a random forest classifier with number of estimators set to 250 and maximum depth set to 16. Another classifier is built which is decision tree classifier. Finally, the built classifiers are tested for performance on test set. Accuracy, confusion matrix and classification report is taken into account for evaluation of built classifier."
   ]
  },
  {
   "cell_type": "code",
   "execution_count": 26,
   "id": "9a9aab2d",
   "metadata": {},
   "outputs": [],
   "source": [
    "#SPlit the dataset into training and testing sets, with a ratio of 70% and 30% respectively.\n",
    "X_train, X_test, y_train, y_test = train_test_split(X, \n",
    "                                                    y, \n",
    "                                                    test_size = 0.3)"
   ]
  },
  {
   "cell_type": "code",
   "execution_count": 27,
   "id": "7d3939d8",
   "metadata": {},
   "outputs": [
    {
     "data": {
      "text/plain": [
       "RandomForestClassifier(max_depth=16, n_estimators=250)"
      ]
     },
     "execution_count": 27,
     "metadata": {},
     "output_type": "execute_result"
    }
   ],
   "source": [
    "#Import Random Forest Classifier and fit the model.\n",
    "random.seed(124)\n",
    "clf=RandomForestClassifier(n_estimators = 250,\n",
    "                          max_depth = 16)\n",
    "clf.fit(X_train,\n",
    "        y_train)"
   ]
  },
  {
   "cell_type": "code",
   "execution_count": 52,
   "id": "f4e29675",
   "metadata": {},
   "outputs": [
    {
     "name": "stdout",
     "output_type": "stream",
     "text": [
      "Decision Tree Classifier Created\n"
     ]
    }
   ],
   "source": [
    "from sklearn.tree import DecisionTreeClassifier\n",
    "dt=DecisionTreeClassifier(max_depth = 50)\n",
    "dt.fit(X_train,\n",
    "       y_train)\n",
    "print('Decision Tree Classifier Created')"
   ]
  },
  {
   "cell_type": "markdown",
   "id": "09c7412f",
   "metadata": {},
   "source": [
    "### Model Evaluation\n",
    "\n",
    "Confusion Matrix is a diagram that shows the differences between actual and predicted values. It has a table-like shape and assesses how well our machine learning classification model performs. It displays the various contrasts between actual and predicted values. Let's define each one separately.\n",
    "1. True Positives (TP) are values that both turned out to be positive and were expected to be positive.\n",
    "2. False Positives, or FPs, are values that were genuinely anticipated to be negative but turned out to be positive. known also as a Type I error.\n",
    "3. False Negatives, or FNs, are values that were projected as negative but were really positive. Error of the same kind as Type II.\n",
    "4. True Negative values are those that were both genuinely negative and projected to be negative."
   ]
  },
  {
   "cell_type": "code",
   "execution_count": 28,
   "id": "88baa9b5",
   "metadata": {},
   "outputs": [
    {
     "name": "stdout",
     "output_type": "stream",
     "text": [
      "Accuracy: 0.666316472514909\n"
     ]
    }
   ],
   "source": [
    "y_pred=clf.predict(X_test)\n",
    "print(\"Accuracy:\",\n",
    "      metrics.accuracy_score(y_test, \n",
    "                             y_pred))"
   ]
  },
  {
   "cell_type": "code",
   "execution_count": 29,
   "id": "a801ddf5",
   "metadata": {},
   "outputs": [
    {
     "data": {
      "image/png": "[encoded data removed]",
      "text/plain": [
       "<Figure size 864x432 with 2 Axes>"
      ]
     },
     "metadata": {},
     "output_type": "display_data"
    }
   ],
   "source": [
    "cm = confusion_matrix(y_test, y_pred)\n",
    "labels = ['1', '0']\n",
    "ax= plt.subplot()\n",
    "sns.heatmap(cm, \n",
    "            annot = True, \n",
    "            fmt = 'g', \n",
    "            ax = ax);  #annot=True to annotate cells, ftm='g' to disable scientific notation\n",
    "\n",
    "# labels, title and ticks\n",
    "ax.set_xlabel('Predicted labels')\n",
    "ax.set_ylabel('True labels')\n",
    "ax.set_title('Confusion Matrix') \n",
    "ax.xaxis.set_ticklabels(['0', '1']); \n",
    "ax.yaxis.set_ticklabels(['0', '1']);"
   ]
  },
  {
   "cell_type": "code",
   "execution_count": 30,
   "id": "c4351ce1",
   "metadata": {},
   "outputs": [
    {
     "name": "stdout",
     "output_type": "stream",
     "text": [
      "              precision    recall  f1-score   support\n",
      "\n",
      "           0       0.67      0.79      0.73     89950\n",
      "           1       0.66      0.51      0.57     71865\n",
      "\n",
      "    accuracy                           0.67    161815\n",
      "   macro avg       0.67      0.65      0.65    161815\n",
      "weighted avg       0.67      0.67      0.66    161815\n",
      "\n"
     ]
    }
   ],
   "source": [
    "print(classification_report(y_test, \n",
    "                            y_pred))"
   ]
  },
  {
   "cell_type": "code",
   "execution_count": 53,
   "id": "4dfae5a1",
   "metadata": {},
   "outputs": [
    {
     "name": "stdout",
     "output_type": "stream",
     "text": [
      "Accuracy: 0.6089114111794333\n"
     ]
    }
   ],
   "source": [
    "y_pred = dt.predict(X_test)\n",
    "print(\"Accuracy:\",\n",
    "      metrics.accuracy_score(y_test, \n",
    "                             y_pred))"
   ]
  },
  {
   "cell_type": "code",
   "execution_count": 54,
   "id": "852d56e2",
   "metadata": {},
   "outputs": [
    {
     "data": {
      "image/png": "[encoded data removed]",
      "text/plain": [
       "<Figure size 864x432 with 2 Axes>"
      ]
     },
     "metadata": {},
     "output_type": "display_data"
    }
   ],
   "source": [
    "cm = confusion_matrix(y_test, y_pred)\n",
    "labels = ['1', '0']\n",
    "ax= plt.subplot()\n",
    "sns.heatmap(cm, \n",
    "            annot = True, \n",
    "            fmt = 'g', \n",
    "            ax = ax);  #annot=True to annotate cells, ftm='g' to disable scientific notation\n",
    "\n",
    "# labels, title and ticks\n",
    "ax.set_xlabel('Predicted labels')\n",
    "ax.set_ylabel('True labels')\n",
    "ax.set_title('Confusion Matrix') \n",
    "ax.xaxis.set_ticklabels(['0', '1']); \n",
    "ax.yaxis.set_ticklabels(['0', '1']);"
   ]
  },
  {
   "cell_type": "code",
   "execution_count": 55,
   "id": "41182abb",
   "metadata": {},
   "outputs": [
    {
     "name": "stdout",
     "output_type": "stream",
     "text": [
      "              precision    recall  f1-score   support\n",
      "\n",
      "           0       0.63      0.71      0.67     89950\n",
      "           1       0.57      0.48      0.52     71865\n",
      "\n",
      "    accuracy                           0.61    161815\n",
      "   macro avg       0.60      0.60      0.60    161815\n",
      "weighted avg       0.60      0.61      0.60    161815\n",
      "\n"
     ]
    }
   ],
   "source": [
    "print(classification_report(y_test, \n",
    "                            y_pred))"
   ]
  },
  {
   "cell_type": "markdown",
   "id": "1e168bf3",
   "metadata": {},
   "source": [
    "### ROC Curve For Random Forest Classifier\n",
    "\n",
    "An indicator of performance for classification issues at different threshold levels is the AUC-ROC curve. AUC stands for the level or measurement of separability, while ROC is a probability curve. It reveals how well the model can differentiate across classes. The model is more accurate at classifying 0 classes as 0, and classifying 1 classes as 1, the higher the AUC. By example, the model is more effective at differentiating between individuals with the condition and those who do not have it the higher the AUC. TPR is plotted against FPR on the ROC curve, with FPR on the x-axis and TPR on the y-axis. The ROC Curve is attached below. The AUC thus obtained is 71 in this case."
   ]
  },
  {
   "cell_type": "code",
   "execution_count": 33,
   "id": "336b5cc8",
   "metadata": {},
   "outputs": [
    {
     "data": {
      "image/png": "[encoded data removed]",
      "text/plain": [
       "<Figure size 864x432 with 1 Axes>"
      ]
     },
     "metadata": {},
     "output_type": "display_data"
    }
   ],
   "source": [
    "y_pred_proba = clf.predict_proba(X_test)[::,1]\n",
    "fpr, tpr, _ = metrics.roc_curve(y_test,  y_pred_proba)\n",
    "\n",
    "#create ROC curve\n",
    "plt.plot(fpr,tpr)\n",
    "plt.ylabel('True Positive Rate')\n",
    "plt.xlabel('False Positive Rate')\n",
    "plt.title(\"ROC Curve For Classification Without AUC\")\n",
    "plt.show()"
   ]
  },
  {
   "cell_type": "code",
   "execution_count": 34,
   "id": "fecb3650",
   "metadata": {},
   "outputs": [
    {
     "data": {
      "image/png": "[encoded data removed]",
      "text/plain": [
       "<Figure size 864x432 with 1 Axes>"
      ]
     },
     "metadata": {},
     "output_type": "display_data"
    }
   ],
   "source": [
    "#define metrics\n",
    "y_pred_proba = clf.predict_proba(X_test)[::,1]\n",
    "fpr, tpr, _ = metrics.roc_curve(y_test,  y_pred_proba)\n",
    "auc = metrics.roc_auc_score(y_test, y_pred_proba)\n",
    "\n",
    "#create ROC curve\n",
    "plt.plot(fpr,tpr,label=\"AUC=\"+str(auc))\n",
    "plt.ylabel('True Positive Rate')\n",
    "plt.xlabel('False Positive Rate')\n",
    "plt.title(\"ROC Curve With AUC Score\")\n",
    "plt.legend(loc=4)\n",
    "plt.show()"
   ]
  },
  {
   "cell_type": "markdown",
   "id": "c3898226",
   "metadata": {},
   "source": [
    "### ROC Curve For Decision Tree Classifier"
   ]
  },
  {
   "cell_type": "code",
   "execution_count": 56,
   "id": "ac206f62",
   "metadata": {},
   "outputs": [
    {
     "data": {
      "image/png": "[encoded data removed]",
      "text/plain": [
       "<Figure size 864x432 with 1 Axes>"
      ]
     },
     "metadata": {},
     "output_type": "display_data"
    }
   ],
   "source": [
    "y_pred_proba = dt.predict_proba(X_test)[::,1]\n",
    "fpr, tpr, _ = metrics.roc_curve(y_test,  y_pred_proba)\n",
    "\n",
    "#create ROC curve\n",
    "plt.plot(fpr,tpr)\n",
    "plt.ylabel('True Positive Rate')\n",
    "plt.xlabel('False Positive Rate')\n",
    "plt.title(\"ROC Curve For Classification Without AUC\")\n",
    "plt.show()"
   ]
  },
  {
   "cell_type": "code",
   "execution_count": 57,
   "id": "895c591a",
   "metadata": {},
   "outputs": [
    {
     "data": {
      "image/png": "[encoded data removed]",
      "text/plain": [
       "<Figure size 864x432 with 1 Axes>"
      ]
     },
     "metadata": {},
     "output_type": "display_data"
    }
   ],
   "source": [
    "#define metrics\n",
    "y_pred_proba = dt.predict_proba(X_test)[::,1]\n",
    "fpr, tpr, _ = metrics.roc_curve(y_test,  y_pred_proba)\n",
    "auc = metrics.roc_auc_score(y_test, y_pred_proba)\n",
    "\n",
    "#create ROC curve\n",
    "plt.plot(fpr,tpr,label=\"AUC=\"+str(auc))\n",
    "plt.ylabel('True Positive Rate')\n",
    "plt.xlabel('False Positive Rate')\n",
    "plt.title(\"ROC Curve With AUC Score\")\n",
    "plt.legend(loc=4)\n",
    "plt.show()"
   ]
  },
  {
   "cell_type": "markdown",
   "id": "df2222c9",
   "metadata": {},
   "source": [
    "## Results\n",
    "\n",
    "Coming towards the result of exploratory data analysis first, it is found that the average length of flight has no effect on flight being delayed or flight being on time. Both have approximately same length. The highest number of flight delays are experienced by WN airline. If we talk about top 3 airlines by highest number of delays then WN, DL and OO are top 3 airlines which has highest delays. Finally, the destination airport experiencing highest number of delay is FLO. If we talk about top 3, the FLO, SJT and PIE tops the list. The random forest classifier is trained and tested on training and testing sets. We found out that the accuracy of our classifier on unseen test dataset is 66% which could further be improved by applying hyperparameter tuning techniques. The confusion matrix and classification report are attached in the implementation step. The ROC curve with and without AUC is also attached and it can be seen that the AUC value for random forest classifier is 71. This tells us about the area that is being covered by the model. The ROC curve for the decision tree classifier is 61."
   ]
  },
  {
   "cell_type": "markdown",
   "id": "7af67b2a",
   "metadata": {},
   "source": [
    "## Conclusions:\n",
    "\n",
    "Concluding this project, we have performed data preprocessing and data cleaning to make our data ready to use and highlighted some points based on which someone can make informed decisions. More deeper analysis and predcitive modelling could be performed given more data about flights. We found out that WN airline is performing very bad in term of delays, there is always a delay on destination airport FLO and that the classifier could preidct accurately upto 66% on unseen data for predicting the delay. Furthermore, we can highlight which day of week records the highest delays, is time a factor in delays or not and many more."
   ]
  },
  {
   "cell_type": "code",
   "execution_count": null,
   "id": "6d09e624",
   "metadata": {},
   "outputs": [],
   "source": []
  }
 ],
 "metadata": {
  "kernelspec": {
   "display_name": "Python 3 (ipykernel)",
   "language": "python",
   "name": "python3"
  },
  "language_info": {
   "codemirror_mode": {
    "name": "ipython",
    "version": 3
   },
   "file_extension": ".py",
   "mimetype": "text/x-python",
   "name": "python",
   "nbconvert_exporter": "python",
   "pygments_lexer": "ipython3",
   "version": "3.9.7"
  }
 },
 "nbformat": 4,
 "nbformat_minor": 5
}
